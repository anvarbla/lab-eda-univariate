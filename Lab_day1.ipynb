{
 "cells": [
  {
   "cell_type": "code",
   "execution_count": null,
   "id": "69ede439-57f3-4c1f-9f04-9113645069b4",
   "metadata": {},
   "outputs": [],
   "source": [
    "import pandas as pd\n",
    "import matplotlib.pyplot as plt\n",
    "import seaborn as sns\n",
    "import numpy as np\n",
    "\n",
    "%matplotlib inline\n",
    "df = pd.read_csv('amz_uk_price_prediction_dataset.csv')"
   ]
  },
  {
   "cell_type": "code",
   "execution_count": null,
   "id": "1bfb2aab-ba1e-401e-9db2-974463012e54",
   "metadata": {},
   "outputs": [],
   "source": [
    "df.head()"
   ]
  },
  {
   "cell_type": "code",
   "execution_count": null,
   "id": "785b8885-771a-4ea7-8aa9-b4e61bd2cfd2",
   "metadata": {},
   "outputs": [],
   "source": [
    "df.columns\n"
   ]
  },
  {
   "cell_type": "code",
   "execution_count": null,
   "id": "c280bdf4-39ff-400b-8c0b-71532baa7193",
   "metadata": {},
   "outputs": [],
   "source": [
    "df.dtypes"
   ]
  },
  {
   "cell_type": "code",
   "execution_count": null,
   "id": "28e63a64-093d-4877-9217-074943f8ed0a",
   "metadata": {},
   "outputs": [],
   "source": [
    "#1.Frequency Tables:\n",
    "#Generate a frequency table for the product category.\n",
    "count_category=pd.DataFrame(df[\"category\"].value_counts())\n",
    "count_category=count_category.reset_index()\n",
    "count_category"
   ]
  },
  {
   "cell_type": "code",
   "execution_count": null,
   "id": "1c91743f-3737-4b98-94db-51cb19c16369",
   "metadata": {},
   "outputs": [],
   "source": [
    "count_category.columns"
   ]
  },
  {
   "cell_type": "code",
   "execution_count": null,
   "id": "31faea99-ae1a-484c-a1a3-c487f5bbd34c",
   "metadata": {},
   "outputs": [],
   "source": [
    "#Which are the top 5 most listed product categories?\n",
    "top_5_category=((count_category.sort_values(\"count\", ascending=False).head(5))[\"category\"]).tolist()\n",
    "print(f\"Top 5 categories are {top_5_category}\")"
   ]
  },
  {
   "cell_type": "code",
   "execution_count": null,
   "id": "60f22cfb-9ee7-4d59-8d1e-8dbcca314183",
   "metadata": {},
   "outputs": [],
   "source": [
    "#Display the distribution of products across different categories using a bar chart. If you face problems understanding the chart, do it for a subset of top categories.\n",
    "sns.barplot(x=count_category[\"category\"].head(5), y=count_category[\"count\"].head(5))\n"
   ]
  },
  {
   "cell_type": "code",
   "execution_count": null,
   "id": "67f4df15-07c2-4621-a7cd-c53f22eafff5",
   "metadata": {},
   "outputs": [],
   "source": [
    "#What's the average price point of products listed? How does this compare with the most common price point (mode)?\n",
    "plt.pie(count_category['count'].head(), labels=count_category['category'].head(), autopct='%1.1f%%', startangle=90)"
   ]
  },
  {
   "cell_type": "code",
   "execution_count": null,
   "id": "ab384ed9-5ace-4be1-9e78-e72a163253ec",
   "metadata": {},
   "outputs": [],
   "source": [
    "#Part 2: Delving into Product Pricing\n",
    "#Calculate the mean, median, and mode for the price of products.\n",
    "#What's the average price point of products listed? How does this compare with the most common price point (mode)?\n",
    "mean_price=df[\"price\"].mean()\n",
    "median_price=df[\"price\"].median()\n",
    "mode_price=df[\"price\"].mode()[0]\n",
    "print(f\"The mean for price is: {mean_price}\")\n",
    "print(f\"The median for price is: {median_price}\")\n",
    "print(f\"The mode for price is: {mode_price}\")\n",
    "print(\"The average price is higher than the mode\")"
   ]
  },
  {
   "cell_type": "code",
   "execution_count": null,
   "id": "56e7605c-fda7-41eb-8d88-30cd9bfc2627",
   "metadata": {},
   "outputs": [],
   "source": [
    "#Determine the variance, standard deviation, range, and interquartile range for product price.\n",
    "#How varied are the product prices? Are there any indicators of a significant spread in prices?\n",
    "sd_price=df[\"price\"].std()\n",
    "var_price=df[\"price\"].var()\n",
    "max_price=df[\"price\"].max()\n",
    "min_price=df[\"price\"].min()\n",
    "range_price=max_price-min_price\n",
    "quantiles_price = df['price'].quantile([0.25, 0.5, 0.75])\n",
    "print(f\"The standar desviation is {sd_price}\")\n",
    "print(f\"The varianza is {var_price}\")\n",
    "print(f\"The range is {range_price}\")\n",
    "print(f\"The quantile are {quantiles_price}\")\n"
   ]
  },
  {
   "cell_type": "code",
   "execution_count": null,
   "id": "b567bc4a-cdfc-455f-92aa-cf4f12cd05e8",
   "metadata": {},
   "outputs": [],
   "source": [
    "#Is there a specific price range where most products fall? Plot a histogram to visualize the distribution of product prices. If its hard to read these diagrams, think why this is, and explain how it could be solved..\n",
    "sns.histplot(df['price'], kde=True, bins=3, color=\"salmon\")"
   ]
  },
  {
   "cell_type": "code",
   "execution_count": null,
   "id": "da5a1afa-d4bc-4fbd-bd22-da6687c85064",
   "metadata": {},
   "outputs": [],
   "source": [
    "#Are there products that are priced significantly higher than the rest? Use a box plot to showcase the spread and potential outliers in product pricing.\n",
    "sns.boxplot(data = df['price'], color=\"lightblue\")"
   ]
  },
  {
   "cell_type": "code",
   "execution_count": null,
   "id": "246785e7-dc8c-44fc-9139-3222be3d175b",
   "metadata": {},
   "outputs": [],
   "source": [
    "#Part 3: Unpacking Product Ratings\n",
    "#Calculate the mean, median, and mode for the rating of products.\n",
    "#How do customers generally rate products? Is there a common trend?\n",
    "mean_stars=df[\"stars\"].mean()\n",
    "median_stars=df[\"stars\"].median()\n",
    "mode_stars=df[\"stars\"].mode()[0]\n",
    "print(f\"The mean for stars is: {mean_stars}\")\n",
    "print(f\"The median for stars is: {median_stars}\")\n",
    "print(f\"The mode for stars is: {mode_stars}\")\n",
    "print(\"The average price is higher than the mode\")"
   ]
  },
  {
   "cell_type": "code",
   "execution_count": null,
   "id": "94220080-f19a-46f1-9acf-b6b70c0a1e81",
   "metadata": {},
   "outputs": [],
   "source": [
    "#Determine the variance, standard deviation, and interquartile range for product rating.\n",
    "#Are the ratings consistent, or is there a wide variation in customer feedback?\n",
    "sd_stars=df[\"stars\"].std()\n",
    "var_stars=df[\"stars\"].var()\n",
    "max_stars=df[\"stars\"].max()\n",
    "min_stars=df[\"stars\"].min()\n",
    "range_stars=max_stars-min_stars\n",
    "quantiles_stars = df['stars'].quantile([0.25, 0.5, 0.75])\n",
    "print(f\"The standar desviation is {sd_stars}\")\n",
    "print(f\"The varianza is {var_stars}\")\n",
    "print(f\"The range is {range_stars}\")\n",
    "print(f\"The quantile are {quantiles_stars}\")"
   ]
  },
  {
   "cell_type": "code",
   "execution_count": null,
   "id": "501bc2db-5449-4f24-ba2d-278a5faad778",
   "metadata": {},
   "outputs": [],
   "source": [
    "#Calculate the skewness and kurtosis for the rating column.\n",
    "#Are the ratings normally distributed, or do they lean towards higher or lower values?\n",
    "skewness_starts = df['stars'].skew()\n",
    "kurtosis_stars = df['stars'].kurtosis()\n",
    "\n",
    "skewness_starts,kurtosis_stars"
   ]
  },
  {
   "cell_type": "code",
   "execution_count": null,
   "id": "30a10dcf-0401-4b17-add2-9b0722073b48",
   "metadata": {},
   "outputs": [],
   "source": [
    "#Plot a histogram to visualize the distribution of product ratings. Is there a specific rating that is more common?\n",
    "sns.histplot(df['stars'], kde=True, bins=30, color=\"orange\")"
   ]
  },
  {
   "cell_type": "code",
   "execution_count": null,
   "id": "a0362a9a-e762-4845-b8af-0188e7c4e9f4",
   "metadata": {},
   "outputs": [],
   "source": []
  }
 ],
 "metadata": {
  "kernelspec": {
   "display_name": ".venv",
   "language": "python",
   "name": ".venv"
  },
  "language_info": {
   "codemirror_mode": {
    "name": "ipython",
    "version": 3
   },
   "file_extension": ".py",
   "mimetype": "text/x-python",
   "name": "python",
   "nbconvert_exporter": "python",
   "pygments_lexer": "ipython3",
   "version": "3.13.1"
  }
 },
 "nbformat": 4,
 "nbformat_minor": 5
}
